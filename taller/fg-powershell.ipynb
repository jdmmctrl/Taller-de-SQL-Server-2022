{
    "metadata": {
        "kernelspec": {
            "name": "powershell",
            "display_name": "PowerShell"
        },
        "language_info": {
            "name": "powershell",
            "codemirror_mode": "shell",
            "mimetype": "text/x-sh",
            "file_extension": ".ps1"
        }
    },
    "nbformat_minor": 2,
    "nbformat": 4,
    "cells": [
        {
            "cell_type": "markdown",
            "source": [
                "# Activity 4: Creating failover groups using PowerShell  \r\n",
                "\r\n",
                "#### <i>The Azure SQL Workshop - Module 5</i>\r\n",
                "\r\n",
                "<p style=\"border-bottom: 1px solid lightgrey;\"></p>\r\n",
                "\r\n",
                "In the module, you learned about geo-replication and auto-failover groups. In this activity, you'll configure auto-failover groups for your Azure SQL Database. You'll then initiate a failover and observe the results, leveraging an application.  \r\n",
                "\r\n",
                "\r\n",
                "**Set up**   \r\n",
                "\r\n",
                "0. You should have opened this file using Azure Data Studio. If you didn't, please refer to Module 2 Activity 3 in the readme.md file to get set up.  \r\n",
                "1. In the bar at the top of this screen, confirm or change the \"Kernel\" to **PowerShell**. This determines what language the code blocks in the file are. In this case, that language is PowerShell.  \r\n",
                "2. Confirming the Kernel is **PowerShell**, for \"Attach to\", it should read **localhost**.  \r\n",
                "\r\n",
                "Now that you're set up, you should read the text cells and \"Run\" the code cells by selecting the play button that appears in the left of a code cell when you hover over it.  \r\n",
                ""
            ],
            "metadata": {
                "azdata_cell_guid": "5907a06a-b683-4e00-b847-8c033d93cbc7"
            }
        },
        {
            "cell_type": "markdown",
            "source": [
                "## Auto-failover groups in Azure SQL  \r\n",
                "\r\n",
                "To configure auto-failover groups for a database(s) and observe the results in an application, you must complete the following steps:  \r\n",
                "\r\n",
                "0. Confirm environment is properly configured\r\n",
                "1. Create an empty Azure SQL Database server in the failover region\r\n",
                "1. Create a failover group between the servers  \r\n",
                "1. Add database(s) to the failover group  \r\n",
                "1. Configure the network\r\n",
                "1. Configure your application(s)\r\n",
                "1. Run your application(s)\r\n",
                "1. Initiate a failover\r\n",
                "1. Fail back\r\n",
                "1. (Bonus) How many read replicas?  \r\n",
                "\r\n",
                "This notebook will guide you through configuring auto-failover groups for your AdventureWorksID database. You'll then use a simple Java application to understand where reads and writes occur, and the importance of retry logic in your applications. Finally, you'll do a fun exercise to determine how many read-replicas are associated with a Business critical database that also has an auto-failover group.  \r\n",
                "\r\n",
                ">Note: This activity is based off of a [tutorial in the documentation](https://docs.microsoft.com/en-us/azure/sql-database/sql-database-implement-geo-distributed-database?tabs=azure-powershell) that also has information about using the Azure portal and the Azure CLI. In this exercise, you will use the Az PowerShell module.  "
            ],
            "metadata": {
                "azdata_cell_guid": "920f1f34-a236-43b9-8395-c3e947ec94a7"
            }
        },
        {
            "cell_type": "markdown",
            "source": [
                "**Step 0 - Confirm environment is properly configured**"
            ],
            "metadata": {
                "azdata_cell_guid": "2f0d4f1d-bc90-44f5-a1fb-d5d9d5639637"
            }
        },
        {
            "cell_type": "markdown",
            "source": [
                "Confirm the [Az PowerShell Module](https://docs.microsoft.com/en-us/powershell/azure/install-az-ps?view=azps-3.4.00) is installed with version 3.4.0+. "
            ],
            "metadata": {
                "azdata_cell_guid": "f42af32c-13e0-45f8-b97f-b456c8adb37f"
            }
        },
        {
            "cell_type": "code",
            "source": [
                "Get-InstalledModule -Name Az -AllVersions | select Name,Version"
            ],
            "metadata": {
                "azdata_cell_guid": "660a1161-06e0-442a-b308-6fb6d82a6785"
            },
            "outputs": [
                {
                    "name": "stdout",
                    "text": "\nName Version\n---- -------\nAz   3.5.0  \n\n\n",
                    "output_type": "stream"
                }
            ],
            "execution_count": 1
        },
        {
            "cell_type": "markdown",
            "source": [
                "Confirm [Maven and Java](https://www.microsoft.com/en-us/sql-server/developer-get-started/java/windows) are installed and configured with Maven 3.6.3+ and Java 1.8.0_241+. "
            ],
            "metadata": {
                "azdata_cell_guid": "6d151b7a-df3c-4c5a-a276-63f3259e90f1"
            }
        },
        {
            "cell_type": "code",
            "source": [
                "mvn --version"
            ],
            "metadata": {
                "azdata_cell_guid": "7f7c6ebc-c84d-42af-9a9d-b7d61a9979c6"
            },
            "outputs": [
                {
                    "name": "stdout",
                    "text": "Apache Maven 3.6.3 (cecedd343002696d0abb50b32b541b8a6ba2883f)\nMaven home: C:\\Users\\vmuser\\Downloads\\apache-maven-3.6.3-bin\\apache-maven-3.6.3\\bin\\..\nJava version: 1.8.0_241, vendor: Oracle Corporation, runtime: C:\\Program Files\\Java\\jdk1.8.0_241\\jre\nDefault locale: en_US, platform encoding: Cp1252\nOS name: \"windows 10\", version: \"10.0\", arch: \"amd64\", family: \"windows\"\n",
                    "output_type": "stream"
                }
            ],
            "execution_count": 2
        },
        {
            "cell_type": "markdown",
            "source": [
                "If either of the above cells fail, please revisit the prerequisites before continuing.  \r\n",
                "\r\n",
                "In the below cell, replace the `0406` with the ID you are using for the workshop. Also, add your subscription ID, your SQL authentication password, and the location of your main Azure SQL Database logical server. For `$drLocation`, you'll need to supply the region where you want your failover group to be. Ideally, you would select a paired region, which you can see the list of [here](https://docs.microsoft.com/en-us/azure/best-practices-availability-paired-regions). \r\n",
                "\r\n",
                "> Note: If you're taking this as part of an in-person workshop and were provided an environment to use, defer to instructor guidance on what region to use.  "
            ],
            "metadata": {
                "azdata_cell_guid": "6abe1497-8822-481b-b0cf-35581ca21b4e"
            }
        },
        {
            "cell_type": "code",
            "source": [
                "# Add your info\r\n",
                "$unique_id = \"0406\"\r\n",
                "$subscriptionId = \"subscription\"\r\n",
                "$location = \"location\"\r\n",
                "$password = \"db password\"\r\n",
                "$drLocation = \"dr location\"\r\n",
                "\r\n",
                "# Do not modify\r\n",
                "$admin = \"cloudadmin\"\r\n",
                "$resourceGroup = \"azuresqlworkshop$($unique_id)\"\r\n",
                "$server = \"aw-server$($unique_id)\"\r\n",
                "$database = \"AdventureWorks$($unique_id)\"\r\n",
                "$drServer = \"aw-server$($unique_id)-dr\"\r\n",
                "$failoverGroup = \"aw-server-fg-$($unique_id)\"\r\n",
                "$firewallRule = \"VmFirewall\"\r\n",
                "$ip = Invoke-RestMethod -Uri 'https://ipinfo.io/ip'\r\n",
                "$ipAddress = $ip.Substring(0,$ip.Length-1)  \r\n",
                "Write-Host \"Variables Received\""
            ],
            "metadata": {
                "azdata_cell_guid": "6b2b94fd-470d-462e-bc9e-721a5b1f7b28"
            },
            "outputs": [],
            "execution_count": null
        },
        {
            "cell_type": "code",
            "source": [
                "Set-AzContext -SubscriptionId $subscriptionId "
            ],
            "metadata": {
                "azdata_cell_guid": "241a155a-c6a1-4e8b-a20f-f9c83ae008dc"
            },
            "outputs": [],
            "execution_count": null
        },
        {
            "cell_type": "markdown",
            "source": [
                "**Step 1 - Create an empty Azure SQL Database server in the failover region**"
            ],
            "metadata": {
                "azdata_cell_guid": "4db9aa26-4f07-44fe-8edf-e5d52efbace5"
            }
        },
        {
            "cell_type": "code",
            "source": [
                "# create a backup server in the failover region\r\n",
                "New-AzSqlServer -ResourceGroupName $resourceGroup `\r\n",
                "    -ServerName $drServer `\r\n",
                "    -Location $drLocation `\r\n",
                "    -SqlAdministratorCredentials $(New-Object -TypeName System.Management.Automation.PSCredential `\r\n",
                "    -ArgumentList $admin, $(ConvertTo-SecureString -String $password -AsPlainText -Force))\r\n",
                "Write-Host \"New Azure SQL Database logical server Created in different region\""
            ],
            "metadata": {
                "azdata_cell_guid": "a7fb1b43-d614-4e32-b8fb-7694fb5a7d02"
            },
            "outputs": [],
            "execution_count": null
        },
        {
            "cell_type": "markdown",
            "source": [
                "**Step 2 - Create a failover group between the servers**"
            ],
            "metadata": {
                "azdata_cell_guid": "4ffd546f-ab5b-4fa8-b0f3-8c0d23bc47cd"
            }
        },
        {
            "cell_type": "code",
            "source": [
                "# create a failover group between the servers\r\n",
                "New-AzSqlDatabaseFailoverGroup -ResourceGroupName $resourceGroup `\r\n",
                "    -ServerName $server `\r\n",
                "    -PartnerServerName $drServer `\r\n",
                "    -FailoverGroupName $failoverGroup \r\n",
                "Write-Host \"New auto-failover group created between the two Azure SQL Database logical servers\""
            ],
            "metadata": {
                "azdata_cell_guid": "1d93bfb6-e9c3-41df-bfb1-92fc0ec296ca",
                "tags": []
            },
            "outputs": [],
            "execution_count": null
        },
        {
            "cell_type": "markdown",
            "source": [
                "**Step 3 - Add database(s) to the failover group**"
            ],
            "metadata": {
                "azdata_cell_guid": "47eba5c0-64a3-432c-8b0c-0e029872b5c8"
            }
        },
        {
            "cell_type": "code",
            "source": [
                "# add the database to the failover group\r\n",
                "Get-AzSqlDatabase -ResourceGroupName $resourceGroup `\r\n",
                "    -ServerName $server -DatabaseName $database | `\r\n",
                "    Add-AzSqlDatabaseToFailoverGroup -ResourceGroupName $resourceGroup `\r\n",
                "    -ServerName $server `\r\n",
                "    -FailoverGroupName $failoverGroup\r\n",
                "Write-Host \"AdventureWorks database added to the auto-failover group\""
            ],
            "metadata": {
                "azdata_cell_guid": "e00fe166-1896-45b4-aaa7-3e91c49cbdc8"
            },
            "outputs": [],
            "execution_count": null
        },
        {
            "cell_type": "markdown",
            "source": [
                "The above step takes some time, because what you're doing is restoring the database in the other region, which involves copying the data from the original region to the DR region. You can work on **Step 5** and then come back here to check if it has completed. If it hasn't, you can work on **Step 6** and then check back here.  "
            ],
            "metadata": {
                "azdata_cell_guid": "f6670a9e-b739-4df8-8f45-20351ad837d6"
            }
        },
        {
            "cell_type": "markdown",
            "source": [
                "**Step 4 - Configure the network**"
            ],
            "metadata": {
                "azdata_cell_guid": "2ea54109-e02e-4d5e-acad-e8a73331ac53"
            }
        },
        {
            "cell_type": "code",
            "source": [
                "# Add a firewall rules that gives your VM access to the new server\r\n",
                "New-AzSqlServerFirewallRule -ResourceGroupName $resourceGroup `\r\n",
                "    -ServerName $drServer `\r\n",
                "    -FirewallRuleName $firewallRule `\r\n",
                "    -StartIpAddress $ipAddress `\r\n",
                "    -EndIpAddress $ipAddress;"
            ],
            "metadata": {
                "azdata_cell_guid": "fc353f5d-d990-4591-82f8-b24338d404ad",
                "tags": []
            },
            "outputs": [],
            "execution_count": null
        },
        {
            "cell_type": "markdown",
            "source": [
                "What you've just done is deploy and configure and auto-failover group for you AdventureWorks database. Let's review.  \r\n",
                "\r\n",
                "You started with a database and server in one location, with access from a virtual network (containing your VM) in that same location, this is what you did in Modules 2 and 3. In this notebook, you created a failover group from your original server to a new server in a different location, and added your AdventureWorks database to it. Finally, you added a firewall rule so that the new server/database in a different region can still be accessed from your VM.  \r\n",
                "\r\n",
                "For the purposes of this activity (illustrating auto-failover groups) this is sufficient from a networking and VM perspective. However, this is slightly different from what you would do in an enterprise environment. In an enterprise environment, your \"VM\" will likely be a set of resources that make up some type of application. In the event of a failover of your database, you may want to failover your application/VMs/other resources to that new region as well. Both sets of resources will need access to the resources/servers/databases in the other region. In order to do this, you can use virtual network peering, virtual network to virtual network connections, or potentially something else (like ExpressRoute). It will depend on your scenario. You can learn more about what is needed to [design globally available services using Azure SQL Database here](https://docs.microsoft.com/en-us/azure/sql-database/sql-database-designing-cloud-solutions-for-disaster-recovery).  "
            ],
            "metadata": {
                "azdata_cell_guid": "25035a1e-35e4-4c47-b175-7e116b6442e9"
            }
        },
        {
            "cell_type": "markdown",
            "source": [
                "**Step 5 - Configure your application(s)**  \r\n",
                "\r\n",
                "For this activity, you'll leverage a sample Java application that attempts to write on your primary server and read what was just written from your secondary server. In order to use this app, you need to add your information to four lines of code. From the **Explorer** left-hand menu in Azure Data Studio, navigate to `azuresqlworkshop\\05-Availability\\fg\\app\\src\\main\\java\\com\\sqldbsamples\\App.java`. Clicking on the `App.java` file should open a text editor within Azure Data Studio. Update the lines near the top that require your specific information and then save the file. You only need to update the following lines (snippet from `App.java`):  \r\n",
                "\r\n",
                "```java\r\n",
                "   // UPDATE WITH YOUR INFO\r\n",
                "   private static final String FAILOVER_GROUP_NAME = \"aw-server-fg-ID\";  // add workshop ID\r\n",
                "   // UPDATE WITH YOUR INFO\r\n",
                "   private static final String DB_NAME = \"AdventureWorksID\";  // add workshop ID\r\n",
                "   // UPDATE WITH YOUR INFO\r\n",
                "   private static final String USER = \"cloudadmin\";  // add database user\r\n",
                "   // UPDATE WITH YOUR INFO\r\n",
                "   private static final String PASSWORD = \"<Password>\";  // add database password\r\n",
                "```  \r\n",
                "\r\n",
                "Review this file and determine what the two queries that are running do.  \r\n",
                "\r\n",
                "Be sure to save the file before you close it.  "
            ],
            "metadata": {
                "azdata_cell_guid": "5e030572-4630-49d7-ab00-0087904048a7"
            }
        },
        {
            "cell_type": "markdown",
            "source": [
                "**Step 6 - Run your application(s)**\r\n",
                "\r\n",
                "This app runs from the command-line. Open Command prompt (you can type `cmd` in the Windows search bar and select **Enter**).  \r\n",
                "\r\n",
                "If you've followed the prerequisites, you just need to update `<vmuser>` to the VM username you use to log in to this VM. Update and then run the following commands in Command prompt.  \r\n",
                "\r\n",
                "```cmd\r\n",
                "cd C:\\Users\\vmuser\\sqlworkshops-azuresqlworkshop\\azuresqlworkshop\\05-Availability\\fg\\app\r\n",
                "mvn package\r\n",
                "mvn -q -e exec:java \"-Dexec.mainClass=com.sqldbsamples.App\"\r\n",
                "```\r\n",
                "\r\n",
                "The first 5-10 inserts may fail. As long as it settles to both being successful, your app is running properly.  \r\n",
                "\r\n",
                "For the next steps, it is recommended to split your screen so you can see both Azure Data Studio and that command prompt window. Example below:  \r\n",
                "\r\n",
                "![](./graphics/splitscreen.png)\r\n",
                ""
            ],
            "metadata": {
                "azdata_cell_guid": "44014cff-63b7-4ba6-ab41-aec3c44598f1"
            }
        },
        {
            "cell_type": "markdown",
            "source": [
                "**Step 7 - Initiate a failover**   \r\n",
                "\r\n",
                "\r\n",
                "Check the status of the secondary server."
            ],
            "metadata": {
                "azdata_cell_guid": "91dd82dd-5b93-4be5-96d4-80a914e90e8a"
            }
        },
        {
            "cell_type": "code",
            "source": [
                "(Get-AzSqlDatabaseFailoverGroup -FailoverGroupName $failoverGroup `\r\n",
                "    -ResourceGroupName $resourceGroup -ServerName $drServer).ReplicationRole"
            ],
            "metadata": {
                "azdata_cell_guid": "db25999b-ba4e-4c8a-a2c5-27dc79534fd2"
            },
            "outputs": [
                {
                    "name": "stdout",
                    "text": "Secondary\n",
                    "output_type": "stream"
                }
            ],
            "execution_count": 9
        },
        {
            "cell_type": "markdown",
            "source": [
                "The result of the previous cell tells you if the secondary server in the auto-failover group is being used as the primary or secondary database."
            ],
            "metadata": {
                "azdata_cell_guid": "642e84cb-3fb8-4e44-92df-aee73a74c4ac"
            }
        },
        {
            "cell_type": "markdown",
            "source": [
                "We can now see what happens when a failover occurs by starting a manual failover with the Azure PowerShell commands below.  \r\n",
                "\r\n",
                "When the failover occurs, you'll notice that some of the inserts and reads may fail briefly. But since our app keeps retrying, the application doesn't fail. And once the failover has completed, the inserts and reads become successful again.  "
            ],
            "metadata": {
                "azdata_cell_guid": "74adcbb5-06e5-41c9-bb5a-ea4f5ab1ca59"
            }
        },
        {
            "cell_type": "code",
            "source": [
                "Switch-AzSqlDatabaseFailoverGroup -ResourceGroupName $resourceGroup `\r\n",
                " -ServerName $drServer -FailoverGroupName $failoverGroup"
            ],
            "metadata": {
                "azdata_cell_guid": "02880372-715f-4bf1-b65f-6926635a1360"
            },
            "outputs": [
                {
                    "name": "stdout",
                    "text": "",
                    "output_type": "stream"
                }
            ],
            "execution_count": 10
        },
        {
            "cell_type": "markdown",
            "source": [
                "Check the status of the secondary server."
            ],
            "metadata": {
                "azdata_cell_guid": "1c5ff262-8a51-4e3f-b266-0c08f7b50c34"
            }
        },
        {
            "cell_type": "code",
            "source": [
                "(Get-AzSqlDatabaseFailoverGroup -FailoverGroupName $failoverGroup `\r\n",
                "    -ResourceGroupName $resourceGroup -ServerName $drServer).ReplicationRole"
            ],
            "metadata": {
                "azdata_cell_guid": "4410b85a-1054-44c5-930b-fce89b2ae9cf"
            },
            "outputs": [
                {
                    "name": "stdout",
                    "text": "Primary\n",
                    "output_type": "stream"
                }
            ],
            "execution_count": 11
        },
        {
            "cell_type": "markdown",
            "source": [
                "**Step 8 - Fail back**  \r\n",
                "\r\n",
                "Now we can fail back to our original configuration by using a similar command.  "
            ],
            "metadata": {
                "azdata_cell_guid": "aabb9efe-cdd9-4589-ba1f-3cdb950588fc"
            }
        },
        {
            "cell_type": "code",
            "source": [
                "Switch-AzSqlDatabaseFailoverGroup -ResourceGroupName $resourceGroup `\r\n",
                " -ServerName $server -FailoverGroupName $failoverGroup"
            ],
            "metadata": {
                "azdata_cell_guid": "62fc5399-1607-43fd-9819-4d8976816e2f"
            },
            "outputs": [
                {
                    "name": "stdout",
                    "text": "",
                    "output_type": "stream"
                }
            ],
            "execution_count": 12
        },
        {
            "cell_type": "markdown",
            "source": [
                "Check the status of the secondary server."
            ],
            "metadata": {
                "azdata_cell_guid": "ee499c44-f704-41d2-a702-116bf29d8c33"
            }
        },
        {
            "cell_type": "code",
            "source": [
                "(Get-AzSqlDatabaseFailoverGroup -FailoverGroupName $failoverGroup `\r\n",
                "    -ResourceGroupName $resourceGroup -ServerName $drServer).ReplicationRole"
            ],
            "metadata": {
                "azdata_cell_guid": "63ac9580-f394-4e8f-9fe5-9e1c23270482"
            },
            "outputs": [
                {
                    "name": "stdout",
                    "text": "Secondary\n",
                    "output_type": "stream"
                }
            ],
            "execution_count": 13
        },
        {
            "cell_type": "markdown",
            "source": [
                "**(Bonus) Step 9 - How many read replicas?**"
            ],
            "metadata": {
                "azdata_cell_guid": "a6008751-671f-4a08-9700-3e99b3f4fae0"
            }
        },
        {
            "cell_type": "markdown",
            "source": [
                "You've seen how you can use the primary/secondary in an auto-failover group to help offload read-heavy workloads from the primary. In the previous activity, you also saw how in certain service tiers, like Business critical, you get a read-replica without setting up auto-failover groups. This begs the question, how many read-replicas do you have with a Business critical Azure SQL Database with an auto-failover group?  \r\n",
                "\r\n",
                "Maybe you guessed it, but the answer is **3**. You can investigate this claim by using SSMS (or ADS) to connect to the following servers (be sure to specify the database under connection properties) and running the query to check if it's ReadWrite or ReadOnly below.  \r\n",
                "\r\n",
                "The easiest way to do this is to create a New Database Engine Query by selecting **File** > **New** > **Database Engine Query**.  \r\n",
                "\r\n",
                "![](./graphics/newdbenginequery.png)\r\n",
                "\r\n",
                "Connections:  \r\n",
                "* `aw-server-fg-`YourID`.database.windows.net`  \r\n",
                "* `aw-server-fg-`YourID`.database.windows.net` with Additional Connection Parameter `ApplicationIntent=ReadOnly`  \r\n",
                "* `aw-server-fg-`YourID`.secondary.database.windows.net`  \r\n",
                "* `aw-server-fg-`YourID`.secondary.database.windows.net` with Additional Connection Parameter `ApplicationIntent=ReadOnly`  \r\n",
                "\r\n",
                "Command to run in each:  \r\n",
                "```sql  \r\n",
                "SELECT DATABASEPROPERTYEX(DB_NAME(), 'Updateability')\r\n",
                "```  "
            ],
            "metadata": {
                "azdata_cell_guid": "2204a9a4-767f-41dd-9e98-75a265eb34f9"
            }
        }
    ]
}